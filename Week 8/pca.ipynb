{
 "cells": [
  {
   "cell_type": "code",
   "execution_count": null,
   "metadata": {},
   "outputs": [],
   "source": [
    "# Import Libraries\n",
    "import numpy as np\n",
    "import pandas as pd"
   ]
  },
  {
   "cell_type": "code",
   "execution_count": null,
   "metadata": {},
   "outputs": [
    {
     "name": "stdout",
     "output_type": "stream",
     "text": [
      "   date  plant-stand  precip  temp  hail  crop-hist  area-damaged  severity  \\\n",
      "0   6.0          0.0     2.0   1.0   0.0        1.0           1.0       1.0   \n",
      "1   4.0          0.0     2.0   1.0   0.0        2.0           0.0       2.0   \n",
      "2   3.0          0.0     2.0   1.0   0.0        1.0           0.0       2.0   \n",
      "3   3.0          0.0     2.0   1.0   0.0        1.0           0.0       2.0   \n",
      "4   6.0          0.0     2.0   1.0   0.0        2.0           0.0       1.0   \n",
      "\n",
      "   seed-tmt  germination  ...  int-discolor  sclerotia  fruit-pods  \\\n",
      "0       0.0          0.0  ...           0.0        0.0         0.0   \n",
      "1       1.0          1.0  ...           0.0        0.0         0.0   \n",
      "2       1.0          2.0  ...           0.0        0.0         0.0   \n",
      "3       0.0          1.0  ...           0.0        0.0         0.0   \n",
      "4       0.0          2.0  ...           0.0        0.0         0.0   \n",
      "\n",
      "   fruit-spots  seed  mold-growth  seed-discolor  seed-size  shriveling  roots  \n",
      "0          4.0   0.0          0.0            0.0        0.0         0.0    0.0  \n",
      "1          4.0   0.0          0.0            0.0        0.0         0.0    0.0  \n",
      "2          4.0   0.0          0.0            0.0        0.0         0.0    0.0  \n",
      "3          4.0   0.0          0.0            0.0        0.0         0.0    0.0  \n",
      "4          4.0   0.0          0.0            0.0        0.0         0.0    0.0  \n",
      "\n",
      "[5 rows x 35 columns]\n",
      "                   class\n",
      "0  diaporthe-stem-canker\n",
      "1  diaporthe-stem-canker\n",
      "2  diaporthe-stem-canker\n",
      "3  diaporthe-stem-canker\n",
      "4  diaporthe-stem-canker\n"
     ]
    }
   ],
   "source": [
    "from ucimlrepo import fetch_ucirepo \n",
    "import pandas as pd\n",
    "import numpy as np\n",
    "from sklearn.preprocessing import StandardScaler, LabelEncoder\n",
    "from sklearn.decomposition import PCA\n",
    "from sklearn.model_selection import train_test_split\n",
    "from sklearn.ensemble import RandomForestClassifier\n",
    "from sklearn.metrics import accuracy_score\n",
    "import matplotlib.pyplot as plt\n",
    "  \n",
    "# fetch dataset \n",
    "soybean_large = fetch_ucirepo(id=90) \n",
    "  \n",
    "# data (as pandas dataframes) \n",
    "X = soybean_large.data.features \n",
    "y = soybean_large.data.targets \n",
    "  \n",
    "# Display columns\n",
    "print(X.head())\n",
    "print(y.head())"
   ]
  },
  {
   "cell_type": "code",
   "execution_count": 28,
   "metadata": {},
   "outputs": [
    {
     "name": "stdout",
     "output_type": "stream",
     "text": [
      "Accuracy (Logistic Regression): 0.8817\n",
      "KMO: 0.6166\n",
      "PCA accuracy (Logistic Regression): 0.8925\n"
     ]
    },
    {
     "name": "stderr",
     "output_type": "stream",
     "text": [
      "/Library/Frameworks/Python.framework/Versions/3.11/lib/python3.11/site-packages/factor_analyzer/utils.py:244: UserWarning: The inverse of the variance-covariance matrix was calculated using the Moore-Penrose generalized matrix inversion, due to its determinant being at or very close to zero.\n",
      "  warnings.warn(\n"
     ]
    }
   ],
   "source": [
    "from factor_analyzer.factor_analyzer import calculate_kmo\n",
    "from sklearn.linear_model import LogisticRegression\n",
    "\n",
    "\n",
    "# Process the data\n",
    "X_processed = X.copy()\n",
    "\n",
    "# Fill missing values with mean\n",
    "X_processed = X_processed.fillna(X_processed.mean())\n",
    "\n",
    "# Encode target variable (disease classes)\n",
    "label_encoder = LabelEncoder()\n",
    "y_encoded = label_encoder.fit_transform(y.values.ravel())\n",
    "\n",
    "# Split data and scale features\n",
    "X_train, X_test, y_train, y_test = train_test_split(\n",
    "    X_processed, y_encoded, test_size=0.3, random_state=42\n",
    ")\n",
    "scaler = StandardScaler()\n",
    "X_train_scaled = scaler.fit_transform(X_train)\n",
    "X_test_scaled = scaler.transform(X_test)\n",
    "\n",
    "# Build model without PCA \n",
    "model = LogisticRegression()\n",
    "model.fit(X_train_scaled, y_train)\n",
    "accuracy = accuracy_score(y_test, model.predict(X_test_scaled))\n",
    "print(f\"Accuracy (Logistic Regression): {accuracy:.4f}\")\n",
    "\n",
    "# KMO Test\n",
    "kmo_all,kmo_model=calculate_kmo(X_train_scaled)\n",
    "print(f\"KMO: {kmo_model:.4f}\")\n",
    "\n",
    "# Perform PCA\n",
    "pca = PCA(n_components=0.95)\n",
    "X_train_pca = pca.fit_transform(X_train_scaled)\n",
    "X_test_pca = pca.transform(X_test_scaled)\n",
    "\n",
    "# Perform Regression with PC as predictors\n",
    "pca_model = LogisticRegression()\n",
    "pca_model.fit(X_train_pca, y_train)\n",
    "pca_accuracy = accuracy_score(y_test, pca_model.predict(X_test_pca))\n",
    "print(f\"PCA accuracy (Logistic Regression): {pca_accuracy:.4f}\")\n"
   ]
  }
 ],
 "metadata": {
  "kernelspec": {
   "display_name": "Python 3",
   "language": "python",
   "name": "python3"
  },
  "language_info": {
   "codemirror_mode": {
    "name": "ipython",
    "version": 3
   },
   "file_extension": ".py",
   "mimetype": "text/x-python",
   "name": "python",
   "nbconvert_exporter": "python",
   "pygments_lexer": "ipython3",
   "version": "3.11.2"
  }
 },
 "nbformat": 4,
 "nbformat_minor": 2
}
