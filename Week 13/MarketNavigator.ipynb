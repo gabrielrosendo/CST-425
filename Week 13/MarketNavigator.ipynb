{
 "cells": [
  {
   "cell_type": "markdown",
   "metadata": {},
   "source": [
    "# Market Navigator: Hidden Markov Models and Monte Carlo Methods\n",
    "## Activity Overview\n",
    "In this exercise, you'll explore how Hidden Markov Models and Monte Carlo methods can be applied to analyze the tech job market and optimize job search strategies for recent CS graduates."
   ]
  },
  {
   "cell_type": "markdown",
   "metadata": {},
   "source": [
    "### Part 1: Modeling the Job Market\n",
    "#### Task\n",
    "- Create an HMM with:\n",
    "  - 3 hidden states: Not Interested, Somewhat Interested, Very Interested\n",
    "  - 3 observable emissions: Automated Rejection, Generic Response, Personalized Follow-up\n",
    "- Configure initial state probabilities, transition probabilities, and emission probabilities.\n",
    "- Generate a sequence of 10 company responses to analyze."
   ]
  },
  {
   "cell_type": "code",
   "execution_count": null,
   "metadata": {},
   "outputs": [],
   "source": [
    "# Part 1: Modeling the Job Market\n",
    "# Define the Hidden Markov Model (HMM) parameters\n",
    "hidden_states = ['Not Interested', 'Somewhat Interested', 'Very Interested']\n",
    "observable_emissions = ['Automated Rejection', 'Generic Response', 'Personalized Follow-up']\n",
    "\n",
    "# Initial state probabilities\n",
    "initial_probabilities = {\n",
    "    # ...define probabilities...\n",
    "}\n",
    "\n",
    "# Transition probabilities\n",
    "transition_probabilities = {\n",
    "    # ...define probabilities...\n",
    "}\n",
    "\n",
    "# Emission probabilities\n",
    "emission_probabilities = {\n",
    "    # ...define probabilities...\n",
    "}\n",
    "\n",
    "# Generate a sequence of 10 company responses\n",
    "# ...code to generate sequence..."
   ]
  },
  {
   "cell_type": "markdown",
   "metadata": {},
   "source": [
    "### Part 2: Analyzing Application Strategy\n",
    "#### Task\n",
    "- Infer the most likely sequence of company interest levels using the Viterbi algorithm.\n",
    "- Calculate the probability of receiving a job offer at the end of the sequence.\n",
    "- Compare inferred paths with true interest levels (if available)."
   ]
  },
  {
   "cell_type": "code",
   "execution_count": null,
   "metadata": {},
   "outputs": [],
   "source": [
    "# Part 2: Analyzing Application Strategy\n",
    "# Observed feedback sequence from Part 1\n",
    "observed_sequence = [\n",
    "    # ...sequence generated in Part 1...\n",
    "]\n",
    "\n",
    "# Infer the most likely sequence of hidden states using the Viterbi algorithm\n",
    "# ...implement Viterbi algorithm...\n",
    "\n",
    "# Calculate the probability of receiving a job offer\n",
    "# ...use forward algorithm or other methods..."
   ]
  },
  {
   "cell_type": "markdown",
   "metadata": {},
   "source": [
    "### Part 3: Monte Carlo Optimization\n",
    "#### Task\n",
    "- Compare two follow-up strategies using Monte Carlo simulation:\n",
    "  - Conservative approach: Less frequent but more substantive follow-ups.\n",
    "  - Aggressive approach: More frequent, briefer follow-ups.\n",
    "- Run 1000+ simulations for each strategy.\n",
    "- Determine which approach leads to more job offers."
   ]
  },
  {
   "cell_type": "code",
   "execution_count": null,
   "metadata": {},
   "outputs": [],
   "source": [
    "# Part 3: Monte Carlo Optimization\n",
    "# Define strategies as modified transition matrices\n",
    "conservative_strategy = {\n",
    "    # ...define transition probabilities...\n",
    "}\n",
    "\n",
    "aggressive_strategy = {\n",
    "    # ...define transition probabilities...\n",
    "}\n",
    "\n",
    "# Run Monte Carlo simulations\n",
    "num_simulations = 1000\n",
    "conservative_results = []\n",
    "aggressive_results = []\n",
    "\n",
    "for _ in range(num_simulations):\n",
    "    # ...simulate conservative strategy...\n",
    "    # ...simulate aggressive strategy...\n",
    "\n",
    "# Compare results\n",
    "# ...analyze which strategy performs better..."
   ]
  },
  {
   "cell_type": "markdown",
   "metadata": {},
   "source": [
    "### The Calibration Challenge\n",
    "#### Task\n",
    "- Analyze the mystery sequence: `Generic, Generic, Personalized, Generic, Personalized`.\n",
    "- Determine the most likely current interest level.\n",
    "- Calculate the probability of receiving a job offer.\n",
    "- Decide whether to use a conservative or aggressive follow-up strategy."
   ]
  },
  {
   "cell_type": "code",
   "execution_count": null,
   "metadata": {},
   "outputs": [],
   "source": [
    "# The Calibration Challenge\n",
    "mystery_sequence = ['Generic', 'Generic', 'Personalized', 'Generic', 'Personalized']\n",
    "\n",
    "# Determine the most likely current interest level\n",
    "# ...use Viterbi algorithm or other methods...\n",
    "\n",
    "# Calculate the probability of receiving a job offer\n",
    "# ...use forward algorithm or other methods...\n",
    "\n",
    "# Decide on follow-up strategy\n",
    "# ...compare conservative and aggressive strategies..."
   ]
  }
 ],
 "metadata": {
  "kernelspec": {
   "display_name": "Python 3",
   "language": "python",
   "name": "python3"
  },
  "language_info": {
   "name": "python",
   "version": "3.11.2"
  }
 },
 "nbformat": 4,
 "nbformat_minor": 2
}
