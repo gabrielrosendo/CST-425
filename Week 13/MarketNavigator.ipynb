{
 "cells": [
  {
   "cell_type": "markdown",
   "metadata": {},
   "source": [
    "# Market Navigator: Hidden Markov Models and Monte Carlo Methods\n",
    "## Activity Overview\n",
    "In this exercise, you'll explore how Hidden Markov Models and Monte Carlo methods can be applied to analyze the tech job market and optimize job search strategies for recent CS graduates."
   ]
  },
  {
   "cell_type": "markdown",
   "metadata": {},
   "source": [
    "### Part 1: Modeling the Job Market\n",
    "#### Task\n",
    "- Create an HMM with:\n",
    "  - 3 hidden states: Not Interested, Somewhat Interested, Very Interested\n",
    "  - 3 observable emissions: Automated Rejection, Generic Response, Personalized Follow-up\n",
    "- Configure initial state probabilities, transition probabilities, and emission probabilities.\n",
    "- Generate a sequence of 10 company responses to analyze."
   ]
  },
  {
   "cell_type": "code",
   "execution_count": null,
   "metadata": {},
   "outputs": [
    {
     "name": "stdout",
     "output_type": "stream",
     "text": []
    }
   ],
   "source": [
    "import random\n",
    "# Part 1: Modeling the Job Market\n",
    "# Define the Hidden Markov Model (HMM) parameters\n",
    "hidden_states = ['Not Interested', 'Somewhat Interested', 'Very Interested']\n",
    "observable_emissions = ['Automated Rejection', 'Generic Response', 'Personalized Follow-up']\n",
    "\n",
    "# Initial state probabilities\n",
    "initial_probabilities = {\n",
    "    'Not Interested': 0.5,\n",
    "    'Somewhat Interested': 0.3,\n",
    "    'Very Interested': 0.2\n",
    "}\n",
    "\n",
    "# Transition probabilities\n",
    "transition_probabilities = {\n",
    "    'Not Interested': {'Not Interested': 0.6, 'Somewhat Interested': 0.3, 'Very Interested': 0.1},\n",
    "    'Somewhat Interested': {'Not Interested': 0.2, 'Somewhat Interested': 0.5, 'Very Interested': 0.3},\n",
    "    'Very Interested': {'Not Interested': 0.1, 'Somewhat Interested': 0.2, 'Very Interested': 0.7}\n",
    "}\n",
    "\n",
    "# Emission probabilities\n",
    "emission_probabilities = {\n",
    "    'Not Interested': {'Automated Rejection': 0.8, 'Generic Response': 0.15, 'Personalized Follow-up': 0.05},\n",
    "    'Somewhat Interested': {'Automated Rejection': 0.4, 'Generic Response': 0.4, 'Personalized Follow-up': 0.2},\n",
    "    'Very Interested': {'Automated Rejection': 0.1, 'Generic Response': 0.2, 'Personalized Follow-up': 0.7}\n",
    "}\n",
    "\n",
    "# Generate a sequence of 10 company responses\n",
    "def generate_response_sequence(num_responses):\n",
    "    # Choose the initial state based on initial probabilities\n",
    "    current_state = random.choices(\n",
    "        hidden_states,\n",
    "        weights=initial_probabilities.values(),\n",
    "        k=1\n",
    "    )[0]\n",
    "\n",
    "    response_sequence = []\n",
    "    for _ in range(num_responses):\n",
    "        # Choose an observable emission based on the current state\n",
    "        emission = random.choices(\n",
    "            observable_emissions,\n",
    "            weights=emission_probabilities[current_state].values(),\n",
    "            k=1\n",
    "        )[0]\n",
    "        response_sequence.append(emission)\n",
    "\n",
    "        # Transition to the next state based on the current state\n",
    "        current_state = random.choices(\n",
    "            hidden_states,\n",
    "            weights=transition_probabilities[current_state].values(),\n",
    "            k=1\n",
    "        )[0]\n",
    "\n",
    "    return response_sequence\n",
    "# Generate and print the response sequence\n",
    "num_responses = 10\n",
    "response_sequence = generate_response_sequence(num_responses)\n",
    "print(\"Generated response sequence:\")\n",
    "for response in response_sequence:\n",
    "    print(response)\n"
   ]
  },
  {
   "cell_type": "markdown",
   "metadata": {},
   "source": [
    "### Part 2: Analyzing Application Strategy\n",
    "#### Task\n",
    "- Infer the most likely sequence of company interest levels using the Viterbi algorithm.\n",
    "- Calculate the probability of receiving a job offer at the end of the sequence.\n",
    "- Compare inferred paths with true interest levels (if available)."
   ]
  },
  {
   "cell_type": "code",
   "execution_count": null,
   "metadata": {},
   "outputs": [
    {
     "name": "stdout",
     "output_type": "stream",
     "text": []
    }
   ],
   "source": [
    "# Part 2: Analyzing Application Strategy\n",
    "print(response_sequence)\n",
    "\n",
    "# Infer the most likely sequence of hidden states using the Viterbi algorithm\n",
    "def viterbi_algorithm(observations, initial_probabilities, transition_probabilities, emission_probabilities):\n",
    "    # Initialize the Viterbi table\n",
    "    viterbi_table = [{}]\n",
    "    path = {}\n",
    "\n",
    "    # Initialize base cases (t == 0)\n",
    "    for state in hidden_states:\n",
    "        viterbi_table[0][state] = initial_probabilities[state] * emission_probabilities[state][observations[0]]\n",
    "        path[state] = [state]\n",
    "\n",
    "    # Fill the Viterbi table\n",
    "    for t in range(1, len(observations)):\n",
    "        viterbi_table.append({})\n",
    "        new_path = {}\n",
    "\n",
    "        for curr_state in hidden_states:\n",
    "            (prob, state) = max(\n",
    "                (viterbi_table[t - 1][prev_state] * transition_probabilities[prev_state][curr_state] *\n",
    "                 emission_probabilities[curr_state][observations[t]], prev_state)\n",
    "                for prev_state in hidden_states\n",
    "            )\n",
    "            viterbi_table[t][curr_state] = prob\n",
    "            new_path[curr_state] = path[state] + [curr_state]\n",
    "\n",
    "        path = new_path\n",
    "\n",
    "    # Find the most probable final state\n",
    "    (prob, state) = max((viterbi_table[len(observations) - 1][s], s) for s in hidden_states)\n",
    "    return prob, path[state]\n",
    "# Run the Viterbi algorithm on the generated response sequence\n",
    "probability, best_path = viterbi_algorithm(\n",
    "    response_sequence,\n",
    "    initial_probabilities,\n",
    "    transition_probabilities,\n",
    "    emission_probabilities\n",
    ")\n",
    "print(\"Most likely sequence of hidden states:\")\n",
    "for state in best_path:\n",
    "    print(state)\n",
    "\n",
    "# Calculate the probability of receiving a job offer\n",
    "def calculate_probability_of_job_offer(response_sequence, hidden_states, transition_probabilities, emission_probabilities):\n",
    "    # Initialize the probability of receiving a job offer\n",
    "    probability_of_job_offer = 0.0\n",
    "\n",
    "    # Iterate through the response sequence and calculate the joint probability\n",
    "    for i in range(len(response_sequence)):\n",
    "        for state in hidden_states:\n",
    "            if response_sequence[i] == 'Personalized Follow-up':\n",
    "                # Joint probability of being in the state and emitting 'Personalized Follow-up'\n",
    "                probability_of_job_offer += (\n",
    "                    emission_probabilities[state]['Personalized Follow-up'] *\n",
    "                    sum(\n",
    "                        transition_probabilities[prev_state][state] *\n",
    "                        (1 if i == 0 else emission_probabilities[prev_state][response_sequence[i - 1]])\n",
    "                        for prev_state in hidden_states\n",
    "                    )\n",
    "                )\n",
    "\n",
    "    return probability_of_job_offer\n",
    "# Calculate and print the probability of receiving a job offer\n",
    "probability_of_job_offer = calculate_probability_of_job_offer(\n",
    "    response_sequence,\n",
    "    hidden_states,\n",
    "    transition_probabilities,\n",
    "    emission_probabilities,\n",
    ")\n",
    "print(\"Probability of receiving a job offer:\", probability_of_job_offer)"
   ]
  },
  {
   "cell_type": "markdown",
   "metadata": {},
   "source": [
    "### Part 3: Monte Carlo Optimization\n",
    "#### Task\n",
    "- Compare two follow-up strategies using Monte Carlo simulation:\n",
    "  - Conservative approach: Less frequent but more substantive follow-ups.\n",
    "  - Aggressive approach: More frequent, briefer follow-ups.\n",
    "- Run 1000+ simulations for each strategy.\n",
    "- Determine which approach leads to more job offers."
   ]
  },
  {
   "cell_type": "code",
   "execution_count": null,
   "metadata": {},
   "outputs": [],
   "source": [
    "# Part 3: Monte Carlo Optimization\n",
    "# TODO\n"
   ]
  },
  {
   "cell_type": "markdown",
   "metadata": {},
   "source": [
    "### The Calibration Challenge\n",
    "#### Task\n",
    "- Analyze the mystery sequence: `Generic, Generic, Personalized, Generic, Personalized`.\n",
    "- Determine the most likely current interest level.\n",
    "- Calculate the probability of receiving a job offer.\n",
    "- Decide whether to use a conservative or aggressive follow-up strategy."
   ]
  },
  {
   "cell_type": "code",
   "execution_count": null,
   "metadata": {},
   "outputs": [],
   "source": [
    "# The Calibration Challenge\n",
    "mystery_sequence = ['Generic', 'Generic', 'Personalized', 'Generic', 'Personalized']\n",
    "\n",
    "# Determine the most likely current interest level\n",
    "# ...use Viterbi algorithm or other methods...\n",
    "\n",
    "# Calculate the probability of receiving a job offer\n",
    "# ...use forward algorithm or other methods...\n",
    "\n",
    "# Decide on follow-up strategy\n",
    "# ...compare conservative and aggressive strategies..."
   ]
  }
 ],
 "metadata": {
  "kernelspec": {
   "display_name": "Python 3",
   "language": "python",
   "name": "python3"
  },
  "language_info": {
   "codemirror_mode": {
    "name": "ipython",
    "version": 3
   },
   "file_extension": ".py",
   "mimetype": "text/x-python",
   "name": "python",
   "nbconvert_exporter": "python",
   "pygments_lexer": "ipython3",
   "version": "3.11.2"
  }
 },
 "nbformat": 4,
 "nbformat_minor": 2
}
