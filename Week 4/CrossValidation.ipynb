{
 "cells": [
  {
   "cell_type": "markdown",
   "source": [
    "### Libraries ###"
   ],
   "metadata": {
    "collapsed": false
   },
   "id": "5fdf2b866dde110b"
  },
  {
   "cell_type": "code",
   "outputs": [],
   "source": [
    "from sklearn.datasets import load_iris\n",
    "from sklearn.model_selection import cross_val_score\n",
    "from sklearn.naive_bayes import GaussianNB\n"
   ],
   "metadata": {
    "collapsed": false,
    "ExecuteTime": {
     "end_time": "2024-01-23T03:45:59.113976Z",
     "start_time": "2024-01-23T03:45:59.109108Z"
    }
   },
   "id": "97fe5da0c2dcccf7",
   "execution_count": 4
  },
  {
   "cell_type": "markdown",
   "source": [
    "### Load Data ###"
   ],
   "metadata": {
    "collapsed": false
   },
   "id": "b8eee1c7ef7fdcf2"
  },
  {
   "cell_type": "code",
   "outputs": [],
   "source": [
    "iris = load_iris()\n",
    "X, y = iris.data, iris.target\n"
   ],
   "metadata": {
    "collapsed": false,
    "ExecuteTime": {
     "end_time": "2024-01-23T03:46:01.630870Z",
     "start_time": "2024-01-23T03:46:01.625401Z"
    }
   },
   "id": "40ab3ebde3183685",
   "execution_count": 5
  },
  {
   "cell_type": "markdown",
   "source": [
    "### Model ###"
   ],
   "metadata": {
    "collapsed": false
   },
   "id": "42c26254452ab6dd"
  },
  {
   "cell_type": "code",
   "outputs": [],
   "source": [
    "model = GaussianNB()\n"
   ],
   "metadata": {
    "collapsed": false,
    "ExecuteTime": {
     "end_time": "2024-01-23T03:46:03.824099Z",
     "start_time": "2024-01-23T03:46:03.817063Z"
    }
   },
   "id": "1b2730a9d92aaef5",
   "execution_count": 6
  },
  {
   "cell_type": "markdown",
   "source": [
    "### Cross Validation ###"
   ],
   "metadata": {
    "collapsed": false
   },
   "id": "32200fd1f6e3185f"
  },
  {
   "cell_type": "code",
   "outputs": [],
   "source": [
    "scores = cross_val_score(model, X, y, cv=5)\n"
   ],
   "metadata": {
    "collapsed": false,
    "ExecuteTime": {
     "end_time": "2024-01-23T03:46:06.765041Z",
     "start_time": "2024-01-23T03:46:06.753186Z"
    }
   },
   "id": "615cd6c1d4743f27",
   "execution_count": 7
  },
  {
   "cell_type": "markdown",
   "source": [
    "### Results ###\n",
    "Look at the scores for each fold and the average score:"
   ],
   "metadata": {
    "collapsed": false
   },
   "id": "77b9528074ddab71"
  },
  {
   "cell_type": "code",
   "outputs": [
    {
     "name": "stdout",
     "output_type": "stream",
     "text": [
      "Scores for each fold: [0.93333333 0.96666667 0.93333333 0.93333333 1.        ]\n",
      "Average score: 0.9533333333333334\n"
     ]
    }
   ],
   "source": [
    "print(\"Scores for each fold:\", scores)\n",
    "print(\"Average score:\", scores.mean())\n"
   ],
   "metadata": {
    "collapsed": false,
    "ExecuteTime": {
     "end_time": "2024-01-23T03:46:11.936199Z",
     "start_time": "2024-01-23T03:46:11.914572Z"
    }
   },
   "id": "9c8ba16f3aca7009",
   "execution_count": 8
  },
  {
   "cell_type": "code",
   "outputs": [],
   "source": [],
   "metadata": {
    "collapsed": false,
    "ExecuteTime": {
     "start_time": "2024-01-23T03:44:49.065182Z"
    }
   },
   "id": "47e87fd7e73ddfa6"
  }
 ],
 "metadata": {
  "kernelspec": {
   "display_name": "Python 3",
   "language": "python",
   "name": "python3"
  },
  "language_info": {
   "codemirror_mode": {
    "name": "ipython",
    "version": 2
   },
   "file_extension": ".py",
   "mimetype": "text/x-python",
   "name": "python",
   "nbconvert_exporter": "python",
   "pygments_lexer": "ipython2",
   "version": "2.7.6"
  }
 },
 "nbformat": 4,
 "nbformat_minor": 5
}
