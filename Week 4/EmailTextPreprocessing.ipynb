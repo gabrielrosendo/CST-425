{
 "cells": [
  {
   "cell_type": "code",
   "execution_count": 1,
   "id": "b93eaa7fd246cf14",
   "metadata": {
    "ExecuteTime": {
     "end_time": "2024-01-22T23:56:58.379490Z",
     "start_time": "2024-01-22T23:56:57.313323Z"
    },
    "collapsed": false
   },
   "outputs": [],
   "source": [
    "import re\n",
    "import nltk\n",
    "from nltk.corpus import stopwords\n",
    "from nltk.stem import PorterStemmer, WordNetLemmatizer\n",
    "from sklearn.feature_extraction.text import CountVectorizer, TfidfVectorizer\n",
    "\n",
    "# Sample email\n",
    "email = \"\"\"\n",
    "Subject: Hello there!\n",
    "This is a sample email. The quick brown fox jumps over the lazy dog.\n",
    "Regards,\n",
    "John Doe\n",
    "\"\"\""
   ]
  },
  {
   "cell_type": "markdown",
   "id": "dc740b8179727c00",
   "metadata": {
    "collapsed": false
   },
   "source": [
    "### Cleaning ###"
   ]
  },
  {
   "cell_type": "code",
   "execution_count": 2,
   "id": "30e1c789e1c6e7c0",
   "metadata": {
    "ExecuteTime": {
     "end_time": "2024-01-22T23:57:02.729530Z",
     "start_time": "2024-01-22T23:57:02.714257Z"
    },
    "collapsed": false
   },
   "outputs": [
    {
     "name": "stdout",
     "output_type": "stream",
     "text": [
      "\n",
      "Cleaned Email:\n",
      "  Subject: Hello there! This is a sample email. The quick brown fox jumps over the lazy dog. Regards, John Doe \n"
     ]
    }
   ],
   "source": [
    "cleaned_email = re.sub(r'\\S*@\\S*\\s?', '', email)  # Remove email addresses\n",
    "cleaned_email = re.sub(r'http\\S+', '', cleaned_email)  # Remove URLs\n",
    "cleaned_email = re.sub(r'\\n', ' ', cleaned_email)  # Remove newlines\n",
    "\n",
    "print(\"\\nCleaned Email:\\n\", cleaned_email)"
   ]
  },
  {
   "cell_type": "markdown",
   "id": "9c8f5ce6333e61d7",
   "metadata": {
    "collapsed": false
   },
   "source": [
    "### Tokenization ###"
   ]
  },
  {
   "cell_type": "code",
   "execution_count": 3,
   "id": "15f0fe5103566554",
   "metadata": {
    "ExecuteTime": {
     "end_time": "2024-01-22T23:57:13.578506Z",
     "start_time": "2024-01-22T23:57:13.448290Z"
    },
    "collapsed": false
   },
   "outputs": [
    {
     "name": "stdout",
     "output_type": "stream",
     "text": [
      "\n",
      "Tokens:\n",
      " ['Subject', ':', 'Hello', 'there', '!', 'This', 'is', 'a', 'sample', 'email', '.', 'The', 'quick', 'brown', 'fox', 'jumps', 'over', 'the', 'lazy', 'dog', '.', 'Regards', ',', 'John', 'Doe']\n"
     ]
    },
    {
     "name": "stderr",
     "output_type": "stream",
     "text": [
      "[nltk_data] Downloading package punkt to /Users/gabriel/nltk_data...\n",
      "[nltk_data]   Package punkt is already up-to-date!\n"
     ]
    }
   ],
   "source": [
    "nltk.download('punkt')\n",
    "tokens = nltk.word_tokenize(cleaned_email)\n",
    "\n",
    "print(\"\\nTokens:\\n\", tokens)"
   ]
  },
  {
   "cell_type": "markdown",
   "id": "76360e066b5c24bb",
   "metadata": {
    "collapsed": false
   },
   "source": [
    "### Stopword Removal ###"
   ]
  },
  {
   "cell_type": "code",
   "execution_count": 4,
   "id": "61ebcd359a7551eb",
   "metadata": {
    "ExecuteTime": {
     "end_time": "2024-01-22T23:57:29.292701Z",
     "start_time": "2024-01-22T23:57:29.281724Z"
    },
    "collapsed": false
   },
   "outputs": [
    {
     "name": "stdout",
     "output_type": "stream",
     "text": [
      "\n",
      "Tokens after Stopword Removal:\n",
      " ['Subject', ':', 'Hello', '!', 'This', 'sample', 'email', '.', 'The', 'quick', 'brown', 'fox', 'jumps', 'lazy', 'dog', '.', 'Regards', ',', 'John', 'Doe']\n"
     ]
    },
    {
     "name": "stderr",
     "output_type": "stream",
     "text": [
      "[nltk_data] Downloading package stopwords to\n",
      "[nltk_data]     /Users/gabriel/nltk_data...\n",
      "[nltk_data]   Package stopwords is already up-to-date!\n"
     ]
    }
   ],
   "source": [
    "nltk.download('stopwords')\n",
    "stop_words = set(stopwords.words('english'))\n",
    "filtered_tokens = [word for word in tokens if word not in stop_words]\n",
    "\n",
    "print(\"\\nTokens after Stopword Removal:\\n\", filtered_tokens)"
   ]
  },
  {
   "cell_type": "markdown",
   "id": "9a98fdc0cf9ea882",
   "metadata": {
    "collapsed": false
   },
   "source": [
    "### Stemming/Lemmatization ###"
   ]
  },
  {
   "cell_type": "code",
   "execution_count": 5,
   "id": "860bdbff8ca1d5e3",
   "metadata": {
    "ExecuteTime": {
     "end_time": "2024-01-23T00:00:21.998865Z",
     "start_time": "2024-01-23T00:00:21.355564Z"
    },
    "collapsed": false
   },
   "outputs": [
    {
     "name": "stdout",
     "output_type": "stream",
     "text": [
      "\n",
      "Stemmed Words:\n",
      " ['subject', ':', 'hello', '!', 'thi', 'sampl', 'email', '.', 'the', 'quick', 'brown', 'fox', 'jump', 'lazi', 'dog', '.', 'regard', ',', 'john', 'doe']\n",
      "\n",
      "Lemmatized Words:\n",
      " ['Subject', ':', 'Hello', '!', 'This', 'sample', 'email', '.', 'The', 'quick', 'brown', 'fox', 'jump', 'lazy', 'dog', '.', 'Regards', ',', 'John', 'Doe']\n"
     ]
    }
   ],
   "source": [
    "stemmer = PorterStemmer()\n",
    "lemmatizer = WordNetLemmatizer()\n",
    "stems = [stemmer.stem(word) for word in filtered_tokens]\n",
    "lemmas = [lemmatizer.lemmatize(word) for word in filtered_tokens]\n",
    "\n",
    "print(\"\\nStemmed Words:\\n\", stems)\n",
    "print(\"\\nLemmatized Words:\\n\", lemmas)"
   ]
  },
  {
   "cell_type": "markdown",
   "id": "7553d50d61f03be3",
   "metadata": {
    "collapsed": false
   },
   "source": [
    "### Vectorization ###\n",
    "For Bag of Words"
   ]
  },
  {
   "cell_type": "code",
   "execution_count": 6,
   "id": "initial_id",
   "metadata": {
    "ExecuteTime": {
     "end_time": "2024-01-23T00:00:37.689878Z",
     "start_time": "2024-01-23T00:00:37.685247Z"
    },
    "collapsed": true
   },
   "outputs": [
    {
     "name": "stdout",
     "output_type": "stream",
     "text": [
      "\n",
      "Bag of Words Representation:\n",
      " [[0 0 0 0 0 0 0 0 0 0 0 0 1 0 0]\n",
      " [0 0 0 0 0 0 0 0 0 0 0 0 0 0 0]\n",
      " [0 0 0 0 0 1 0 0 0 0 0 0 0 0 0]\n",
      " [0 0 0 0 0 0 0 0 0 0 0 0 0 0 0]\n",
      " [0 0 0 0 0 0 0 0 0 0 0 0 0 0 1]\n",
      " [0 0 0 0 0 0 0 0 0 0 0 1 0 0 0]\n",
      " [0 0 0 1 0 0 0 0 0 0 0 0 0 0 0]\n",
      " [0 0 0 0 0 0 0 0 0 0 0 0 0 0 0]\n",
      " [0 0 0 0 0 0 0 0 0 0 0 0 0 1 0]\n",
      " [0 0 0 0 0 0 0 0 0 1 0 0 0 0 0]\n",
      " [1 0 0 0 0 0 0 0 0 0 0 0 0 0 0]\n",
      " [0 0 0 0 1 0 0 0 0 0 0 0 0 0 0]\n",
      " [0 0 0 0 0 0 0 1 0 0 0 0 0 0 0]\n",
      " [0 0 0 0 0 0 0 0 1 0 0 0 0 0 0]\n",
      " [0 0 1 0 0 0 0 0 0 0 0 0 0 0 0]\n",
      " [0 0 0 0 0 0 0 0 0 0 0 0 0 0 0]\n",
      " [0 0 0 0 0 0 0 0 0 0 1 0 0 0 0]\n",
      " [0 0 0 0 0 0 0 0 0 0 0 0 0 0 0]\n",
      " [0 0 0 0 0 0 1 0 0 0 0 0 0 0 0]\n",
      " [0 1 0 0 0 0 0 0 0 0 0 0 0 0 0]]\n"
     ]
    }
   ],
   "source": [
    "vectorizer = CountVectorizer()\n",
    "bow = vectorizer.fit_transform(lemmas)\n",
    "\n",
    "# For TF-IDF\n",
    "tfidf_vectorizer = TfidfVectorizer()\n",
    "tfidf = tfidf_vectorizer.fit_transform(lemmas)\n",
    "\n",
    "# bow and tfidf are now the vectorized forms of the processed email\n",
    "\n",
    "print(\"\\nBag of Words Representation:\\n\", bow.toarray())\n"
   ]
  },
  {
   "cell_type": "code",
   "execution_count": 7,
   "id": "e755deb04a8f5a54",
   "metadata": {
    "ExecuteTime": {
     "end_time": "2024-01-23T00:00:43.466275Z",
     "start_time": "2024-01-23T00:00:43.254780Z"
    },
    "collapsed": false
   },
   "outputs": [
    {
     "data": {
      "image/png": "[encoded data removed]",
      "text/plain": [
       "<Figure size 1000x600 with 1 Axes>"
      ]
     },
     "metadata": {},
     "output_type": "display_data"
    }
   ],
   "source": [
    "from matplotlib import pyplot as plt\n",
    "from collections import Counter\n",
    "\n",
    "# Visualization of the most frequent words\n",
    "word_freq = Counter(lemmas)\n",
    "most_common_words = word_freq.most_common(10)\n",
    "\n",
    "words, counts = zip(*most_common_words)\n",
    "plt.figure(figsize=(10, 6))\n",
    "plt.bar(words, counts)\n",
    "plt.xlabel('Words')\n",
    "plt.ylabel('Frequency')\n",
    "plt.title('Top 10 Most Frequent Words after Preprocessing')\n",
    "plt.show()\n"
   ]
  },
  {
   "cell_type": "code",
   "execution_count": null,
   "id": "bcaab2acc60eb845",
   "metadata": {
    "ExecuteTime": {
     "start_time": "2023-12-30T19:07:38.870941Z"
    },
    "collapsed": false
   },
   "outputs": [],
   "source": []
  }
 ],
 "metadata": {
  "kernelspec": {
   "display_name": "Python 3",
   "language": "python",
   "name": "python3"
  },
  "language_info": {
   "codemirror_mode": {
    "name": "ipython",
    "version": 3
   },
   "file_extension": ".py",
   "mimetype": "text/x-python",
   "name": "python",
   "nbconvert_exporter": "python",
   "pygments_lexer": "ipython3",
   "version": "3.11.2"
  }
 },
 "nbformat": 4,
 "nbformat_minor": 5
}
