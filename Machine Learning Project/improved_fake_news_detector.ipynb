{
 "cells": [
  {
   "cell_type": "markdown",
   "id": "07c2eddc",
   "metadata": {},
   "source": [
    "# Fake News Detection Using Machine Learning\n",
    "**Authors:** Gabriel Marcelino, Eli Kaustinen"
   ]
  },
  {
   "cell_type": "markdown",
   "id": "5c17cbbb",
   "metadata": {},
   "source": [
    "## Environment Setup & Requirements\n",
    "Install required Python packages (within your virtual environment):\n",
    "\n",
    "```bash\n",
    "pip install pandas numpy matplotlib seaborn scikit-learn scipy\n",
    "```"
   ]
  },
  {
   "cell_type": "markdown",
   "id": "3f677676",
   "metadata": {},
   "source": [
    "## a) Problem Statement\n",
    "**Objective:**\n",
    "Detect whether a news article is real or fake using its title and text content, and provide a probability score for the prediction.\n",
    "\n",
    "**Quantitative Formulation:**\n",
    "Given a dataset of labeled news articles (real/fake), build a binary classifier f(x) that outputs the probability an article is real (1) or fake (0).\n",
    "\n",
    "**Importance:**\n",
    "- Misinformation and fake news can influence public opinion and decision-making.  \n",
    "- Automated detection helps flag suspicious content at scale."
   ]
  },
  {
   "cell_type": "markdown",
   "id": "c831ac90",
   "metadata": {},
   "source": [
    "## b) Algorithm of the Solution\n",
    "1. **Load Data:** Read `Fake.csv` and `True.csv`, assign label 0 for fake, 1 for real, and concatenate into a single DataFrame.  \n",
    "2. **Descriptive Analysis:** Explore class balance, text-length distribution, and display example articles.  \n",
    "3. **Data Cleaning:** Drop rows with missing `title` or `text`.  \n",
    "4. **Handle Outliers:** Cap text length at 5000 characters to limit extreme values.  \n",
    "5. **Train/Test Split:** Split data into 80% train, 20% test sets (stratified by label).  \n",
    "6. **Feature Extraction:**  \n",
    "   - Fit TF-IDF vectorizer on `title` (max_features=100, stop words, min_df=3, max_df=0.9).  \n",
    "   - Fit TF-IDF vectorizer on `text` (max_features=500, stop words, min_df=3, max_df=0.9).  \n",
    "   - Transform train/test sets and horizontally stack title + text features.  \n",
    "7. **Model Training & Cross-Validation:** Train three models using 5‑fold CV on the training set:  \n",
    "   - Logistic Regression (`max_iter=1000`)  \n",
    "   - Multinomial Naïve Bayes  \n",
    "   - Random Forest (`n_estimators=50`, `max_depth=15`, `min_samples_leaf=30`, `max_features='sqrt'`)  \n",
    "8. **Evaluation on Test Set:** For each model, compute classification report, confusion matrix, accuracy, ROC AUC, and plot ROC curves.  \n",
    "9. **Analysis of Findings:** Compare performance metrics to select the best model.  \n",
    "10. **Additional Testing:** Run custom headline/text examples through the final models."
   ]
  },
  {
   "cell_type": "markdown",
   "id": "e247139c",
   "metadata": {},
   "source": [
    "## c) Theoretical Foundations\n",
    "- **Logistic Regression:** A linear model for binary classification that uses the logistic (sigmoid) function to estimate class probabilities.  \n",
    "- **Multinomial Naïve Bayes:** A generative probabilistic classifier applying Bayes’ theorem with feature-independence assumptions, well-suited for count-based text data.  \n",
    "- **Random Forest:** An ensemble method that combines multiple decision trees to improve accuracy and prevent overfitting via bootstrap aggregation.  \n",
    "- **TF-IDF:** A statistic that reflects how important a word is to a document in a corpus, computed as term frequency multiplied by inverse document frequency."
   ]
  },
  {
   "cell_type": "markdown",
   "id": "1f52aed3",
   "metadata": {},
   "source": [
    "## d) References\n",
    "- Dataset source: [Fake News Detection Datasets on Kaggle](https://www.kaggle.com/datasets/emineyetm/fake-news-detection-datasets)  \n",
    "- Scikit-learn documentation: https://scikit-learn.org/  \n",
    "- TF-IDF: https://en.wikipedia.org/wiki/Tf%E2%80%93idf"
   ]
  },
  {
   "cell_type": "code",
   "execution_count": 1,
   "id": "9567ba3e",
   "metadata": {},
   "outputs": [],
   "source": [
    "import pandas as pd\n",
    "import numpy as np\n",
    "import matplotlib.pyplot as plt\n",
    "import seaborn as sns\n",
    "from sklearn.model_selection import train_test_split, cross_val_score\n",
    "from sklearn.feature_extraction.text import TfidfVectorizer\n",
    "from sklearn.linear_model import LogisticRegression\n",
    "from sklearn.naive_bayes import MultinomialNB\n",
    "from sklearn.ensemble import RandomForestClassifier\n",
    "from sklearn.metrics import classification_report, confusion_matrix, accuracy_score, roc_auc_score, roc_curve\n",
    "from scipy.sparse import hstack\n",
    "\n",
    "# Set plotting style\n",
    "sns.set(style='whitegrid')"
   ]
  },
  {
   "cell_type": "markdown",
   "id": "119ca672",
   "metadata": {},
   "source": [
    "## Load and Combine Datasets\n",
    "Reads `Fake.csv` and `True.csv`, assigns labels, and concatenates into one DataFrame."
   ]
  },
  {
   "cell_type": "code",
   "execution_count": 2,
   "id": "569bd591",
   "metadata": {},
   "outputs": [
    {
     "name": "stdout",
     "output_type": "stream",
     "text": [
      "Dataset shape: (44898, 5)\n"
     ]
    },
    {
     "data": {
      "text/html": [
       "<div>\n",
       "<style scoped>\n",
       "    .dataframe tbody tr th:only-of-type {\n",
       "        vertical-align: middle;\n",
       "    }\n",
       "\n",
       "    .dataframe tbody tr th {\n",
       "        vertical-align: top;\n",
       "    }\n",
       "\n",
       "    .dataframe thead th {\n",
       "        text-align: right;\n",
       "    }\n",
       "</style>\n",
       "<table border=\"1\" class=\"dataframe\">\n",
       "  <thead>\n",
       "    <tr style=\"text-align: right;\">\n",
       "      <th></th>\n",
       "      <th>title</th>\n",
       "      <th>text</th>\n",
       "      <th>subject</th>\n",
       "      <th>date</th>\n",
       "      <th>label</th>\n",
       "    </tr>\n",
       "  </thead>\n",
       "  <tbody>\n",
       "    <tr>\n",
       "      <th>0</th>\n",
       "      <td>Donald Trump Sends Out Embarrassing New Year’...</td>\n",
       "      <td>Donald Trump just couldn t wish all Americans ...</td>\n",
       "      <td>News</td>\n",
       "      <td>December 31, 2017</td>\n",
       "      <td>0</td>\n",
       "    </tr>\n",
       "    <tr>\n",
       "      <th>1</th>\n",
       "      <td>Drunk Bragging Trump Staffer Started Russian ...</td>\n",
       "      <td>House Intelligence Committee Chairman Devin Nu...</td>\n",
       "      <td>News</td>\n",
       "      <td>December 31, 2017</td>\n",
       "      <td>0</td>\n",
       "    </tr>\n",
       "    <tr>\n",
       "      <th>2</th>\n",
       "      <td>Sheriff David Clarke Becomes An Internet Joke...</td>\n",
       "      <td>On Friday, it was revealed that former Milwauk...</td>\n",
       "      <td>News</td>\n",
       "      <td>December 30, 2017</td>\n",
       "      <td>0</td>\n",
       "    </tr>\n",
       "    <tr>\n",
       "      <th>3</th>\n",
       "      <td>Trump Is So Obsessed He Even Has Obama’s Name...</td>\n",
       "      <td>On Christmas day, Donald Trump announced that ...</td>\n",
       "      <td>News</td>\n",
       "      <td>December 29, 2017</td>\n",
       "      <td>0</td>\n",
       "    </tr>\n",
       "    <tr>\n",
       "      <th>4</th>\n",
       "      <td>Pope Francis Just Called Out Donald Trump Dur...</td>\n",
       "      <td>Pope Francis used his annual Christmas Day mes...</td>\n",
       "      <td>News</td>\n",
       "      <td>December 25, 2017</td>\n",
       "      <td>0</td>\n",
       "    </tr>\n",
       "  </tbody>\n",
       "</table>\n",
       "</div>"
      ],
      "text/plain": [
       "                                               title  \\\n",
       "0   Donald Trump Sends Out Embarrassing New Year’...   \n",
       "1   Drunk Bragging Trump Staffer Started Russian ...   \n",
       "2   Sheriff David Clarke Becomes An Internet Joke...   \n",
       "3   Trump Is So Obsessed He Even Has Obama’s Name...   \n",
       "4   Pope Francis Just Called Out Donald Trump Dur...   \n",
       "\n",
       "                                                text subject  \\\n",
       "0  Donald Trump just couldn t wish all Americans ...    News   \n",
       "1  House Intelligence Committee Chairman Devin Nu...    News   \n",
       "2  On Friday, it was revealed that former Milwauk...    News   \n",
       "3  On Christmas day, Donald Trump announced that ...    News   \n",
       "4  Pope Francis used his annual Christmas Day mes...    News   \n",
       "\n",
       "                date  label  \n",
       "0  December 31, 2017      0  \n",
       "1  December 31, 2017      0  \n",
       "2  December 30, 2017      0  \n",
       "3  December 29, 2017      0  \n",
       "4  December 25, 2017      0  "
      ]
     },
     "execution_count": 2,
     "metadata": {},
     "output_type": "execute_result"
    }
   ],
   "source": [
    "fake = pd.read_csv('Fake.csv')\n",
    "true = pd.read_csv('True.csv')\n",
    "\n",
    "# Label encoding: 0 = fake, 1 = real\n",
    "fake['label'] = 0\n",
    "true['label'] = 1\n",
    "\n",
    "data = pd.concat([fake, true], ignore_index=True)\n",
    "print('Dataset shape:', data.shape)\n",
    "data.head()"
   ]
  },
  {
   "cell_type": "markdown",
   "id": "2d996a57",
   "metadata": {},
   "source": [
    "## Descriptive Analysis of the Data\n",
    "- Class distribution  \n",
    "- Text-length distribution  \n",
    "- Example articles"
   ]
  },
  {
   "cell_type": "code",
   "execution_count": 3,
   "id": "32320987",
   "metadata": {},
   "outputs": [
    {
     "name": "stdout",
     "output_type": "stream",
     "text": [
      "Class distribution:\n",
      "label\n",
      "0    23481\n",
      "1    21417\n",
      "Name: count, dtype: int64\n"
     ]
    },
    {
     "data": {
      "image/png": "[encoded data removed]",
      "text/plain": [
       "<Figure size 640x480 with 1 Axes>"
      ]
     },
     "metadata": {},
     "output_type": "display_data"
    },
    {
     "data": {
      "image/png": "[encoded data removed]",
      "text/plain": [
       "<Figure size 640x480 with 1 Axes>"
      ]
     },
     "metadata": {},
     "output_type": "display_data"
    },
    {
     "name": "stdout",
     "output_type": "stream",
     "text": [
      "Example fake news article:\n",
      "title     Donald Trump Sends Out Embarrassing New Year’...\n",
      "text     Donald Trump just couldn t wish all Americans ...\n",
      "Name: 0, dtype: object\n",
      "\n",
      "Example real news article:\n",
      "title    As U.S. budget fight looms, Republicans flip t...\n",
      "text     WASHINGTON (Reuters) - The head of a conservat...\n",
      "Name: 23481, dtype: object\n"
     ]
    }
   ],
   "source": [
    "print('Class distribution:')\n",
    "print(data['label'].value_counts())\n",
    "sns.countplot(x='label', data=data)\n",
    "plt.title('Class Distribution (0=Fake, 1=True)')\n",
    "plt.show()\n",
    "\n",
    "data['text_length'] = data['text'].str.len()\n",
    "sns.histplot(data['text_length'], bins=50, kde=True)\n",
    "plt.title('Distribution of Text Length')\n",
    "plt.show()\n",
    "\n",
    "print('Example fake news article:')\n",
    "print(data[data['label']==0].iloc[0][['title','text']])\n",
    "print('\\nExample real news article:')\n",
    "print(data[data['label']==1].iloc[0][['title','text']])"
   ]
  },
  {
   "cell_type": "markdown",
   "id": "d4d95f2b",
   "metadata": {},
   "source": [
    "## Data Cleaning and Handling Missing Values\n",
    "- Check for missing values  \n",
    "- Drop any rows missing title or text"
   ]
  },
  {
   "cell_type": "code",
   "execution_count": 4,
   "id": "48cba151",
   "metadata": {},
   "outputs": [
    {
     "name": "stdout",
     "output_type": "stream",
     "text": [
      "Missing values per column:\n",
      "title          0\n",
      "text           0\n",
      "subject        0\n",
      "date           0\n",
      "label          0\n",
      "text_length    0\n",
      "dtype: int64\n",
      "After dropna shape: (44898, 6)\n"
     ]
    }
   ],
   "source": [
    "print('Missing values per column:')\n",
    "print(data.isnull().sum())\n",
    "data.dropna(subset=['title','text'], inplace=True)\n",
    "print('After dropna shape:', data.shape)"
   ]
  },
  {
   "cell_type": "markdown",
   "id": "a6b0212d",
   "metadata": {},
   "source": [
    "## Handling Outliers\n",
    "- Cap extreme text lengths at 5000 characters to mitigate outlier effects"
   ]
  },
  {
   "cell_type": "code",
   "execution_count": 5,
   "id": "16684047",
   "metadata": {},
   "outputs": [
    {
     "data": {
      "image/png": "[encoded data removed]",
      "text/plain": [
       "<Figure size 640x480 with 1 Axes>"
      ]
     },
     "metadata": {},
     "output_type": "display_data"
    }
   ],
   "source": [
    "data['text_length'] = np.clip(data['text_length'], 0, 5000)\n",
    "sns.boxplot(x=data['text_length'])\n",
    "plt.title('Text Length After Capping Outliers')\n",
    "plt.show()"
   ]
  },
  {
   "cell_type": "markdown",
   "id": "0c53f565",
   "metadata": {},
   "source": [
    "## Normalization and Standardization\n",
    "TF-IDF inherently scales features based on term frequencies and inverse document frequencies, so no additional normalization is required."
   ]
  },
  {
   "cell_type": "markdown",
   "id": "bf8c7c1b",
   "metadata": {},
   "source": [
    "## Train/Test Split\n",
    "Split data into training and testing sets (80/20 stratified by label)."
   ]
  },
  {
   "cell_type": "code",
   "execution_count": 6,
   "id": "57697f0c",
   "metadata": {},
   "outputs": [
    {
     "name": "stdout",
     "output_type": "stream",
     "text": [
      "Train shape: (35918, 2) Test shape: (8980, 2)\n"
     ]
    }
   ],
   "source": [
    "X = data[['title','text']]\n",
    "y = data['label']\n",
    "X_train, X_test, y_train, y_test = train_test_split(\n",
    "    X, y, test_size=0.2, random_state=42, stratify=y\n",
    ")\n",
    "print('Train shape:', X_train.shape, 'Test shape:', X_test.shape)"
   ]
  },
  {
   "cell_type": "markdown",
   "id": "21679591",
   "metadata": {},
   "source": [
    "## Feature Extraction: TF-IDF on Title and Text\n",
    "- Fit TF-IDF on title and text separately  \n",
    "- Use fewer features, remove stopwords, ignore rare/common terms"
   ]
  },
  {
   "cell_type": "code",
   "execution_count": 7,
   "id": "2b3d1321",
   "metadata": {},
   "outputs": [],
   "source": [
    "tfidf_title = TfidfVectorizer(\n",
    "    max_features=100,\n",
    "    stop_words='english',\n",
    "    min_df=3,\n",
    "    max_df=0.90\n",
    ")\n",
    "tfidf_text = TfidfVectorizer(\n",
    "    max_features=500,\n",
    "    stop_words='english',\n",
    "    min_df=3,\n",
    "    max_df=0.90\n",
    ")\n",
    "\n",
    "# Fit on training data\n",
    "X_train_title = tfidf_title.fit_transform(X_train['title'])\n",
    "X_train_text = tfidf_text.fit_transform(X_train['text'])\n",
    "# Transform test data\n",
    "X_test_title = tfidf_title.transform(X_test['title'])\n",
    "X_test_text = tfidf_text.transform(X_test['text'])\n",
    "\n",
    "# Combine features\n",
    "X_train_combined = hstack([X_train_title, X_train_text])\n",
    "X_test_combined = hstack([X_test_title, X_test_text])"
   ]
  },
  {
   "cell_type": "markdown",
   "id": "d2ff6d87",
   "metadata": {},
   "source": [
    "## Model Training: Logistic Regression, MultinomialNB, Random Forest"
   ]
  },
  {
   "cell_type": "code",
   "execution_count": 8,
   "id": "aea1b38c",
   "metadata": {},
   "outputs": [],
   "source": [
    "# Model 1: Logistic Regression\n",
    "# Using max_iter=1000 to ensure convergence on high-dimensional TF-IDF features\n",
    "logreg = LogisticRegression(max_iter=1000)\n",
    "logreg.fit(X_train_combined, y_train)\n",
    "y_pred_logreg = logreg.predict(X_test_combined)\n",
    "y_proba_logreg = logreg.predict_proba(X_test_combined)[:, 1]\n",
    "\n",
    "# Model 2: Multinomial Naïve Bayes\n",
    "# Suitable for count-based text features; default smoothing alpha=1.0\n",
    "nb = MultinomialNB()\n",
    "nb.fit(X_train_combined, y_train)\n",
    "y_pred_nb = nb.predict(X_test_combined)\n",
    "y_proba_nb = nb.predict_proba(X_test_combined)[:, 1]\n",
    "\n",
    "# Model 3: Random Forest Classifier\n",
    "# Conservative hyperparams to reduce overfitting\n",
    "rf = RandomForestClassifier(\n",
    "    n_estimators=50,\n",
    "    max_depth=15,\n",
    "    min_samples_leaf=30,\n",
    "    max_features='sqrt',\n",
    "    random_state=42\n",
    ")\n",
    "rf.fit(X_train_combined, y_train)\n",
    "y_pred_rf = rf.predict(X_test_combined)\n",
    "y_proba_rf = rf.predict_proba(X_test_combined)[:, 1]"
   ]
  },
  {
   "cell_type": "markdown",
   "id": "1d1b56cd",
   "metadata": {},
   "source": [
    "## Cross-Validation (5-fold accuracy on training set)"
   ]
  },
  {
   "cell_type": "code",
   "execution_count": 9,
   "id": "24ff97f8",
   "metadata": {},
   "outputs": [
    {
     "name": "stdout",
     "output_type": "stream",
     "text": [
      "Logistic Regression CV: 0.9857 ± 0.0014\n",
      "Multinomial NB CV:    0.9291 ± 0.0026\n",
      "Random Forest CV:     0.9943 ± 0.0006\n"
     ]
    }
   ],
   "source": [
    "cv_logreg = cross_val_score(logreg, X_train_combined, y_train, cv=5, scoring='accuracy')\n",
    "cv_nb = cross_val_score(nb, X_train_combined, y_train, cv=5, scoring='accuracy')\n",
    "cv_rf = cross_val_score(rf, X_train_combined, y_train, cv=5, scoring='accuracy')\n",
    "print(f'Logistic Regression CV: {cv_logreg.mean():.4f} ± {cv_logreg.std():.4f}')\n",
    "print(f'Multinomial NB CV:    {cv_nb.mean():.4f} ± {cv_nb.std():.4f}')\n",
    "print(f'Random Forest CV:     {cv_rf.mean():.4f} ± {cv_rf.std():.4f}')"
   ]
  },
  {
   "cell_type": "markdown",
   "id": "ebcf48d9",
   "metadata": {},
   "source": [
    "## Evaluation Function"
   ]
  },
  {
   "cell_type": "code",
   "execution_count": 10,
   "id": "dcde0a0d",
   "metadata": {},
   "outputs": [],
   "source": [
    "def evaluate_model(name, y_true, y_pred, y_proba):\n",
    "    print(f'=== {name} ===')\n",
    "    print('Accuracy:', accuracy_score(y_true, y_pred))\n",
    "    print('ROC AUC:', roc_auc_score(y_true, y_proba))\n",
    "    print('Classification Report:\\n', classification_report(y_true, y_pred))\n",
    "    cm = confusion_matrix(y_true, y_pred)\n",
    "    sns.heatmap(cm, annot=True, fmt='d')\n",
    "    plt.title(f'Confusion Matrix: {name}')\n",
    "    plt.ylabel('True')\n",
    "    plt.xlabel('Predicted')\n",
    "    plt.show()\n",
    "    fpr, tpr, _ = roc_curve(y_true, y_proba)\n",
    "    return fpr, tpr"
   ]
  },
  {
   "cell_type": "markdown",
   "id": "f775c203",
   "metadata": {},
   "source": [
    "## Compare Models & ROC Curves"
   ]
  },
  {
   "cell_type": "code",
   "execution_count": 11,
   "id": "d0ce94c4",
   "metadata": {},
   "outputs": [
    {
     "name": "stdout",
     "output_type": "stream",
     "text": [
      "=== Logistic Regression ===\n",
      "Accuracy: 0.9848552338530067\n",
      "ROC AUC: 0.9989124979918145\n",
      "Classification Report:\n",
      "               precision    recall  f1-score   support\n",
      "\n",
      "           0       0.99      0.98      0.99      4696\n",
      "           1       0.98      0.99      0.98      4284\n",
      "\n",
      "    accuracy                           0.98      8980\n",
      "   macro avg       0.98      0.98      0.98      8980\n",
      "weighted avg       0.98      0.98      0.98      8980\n",
      "\n"
     ]
    },
    {
     "data": {
      "image/png": "[encoded data removed]",
      "text/plain": [
       "<Figure size 640x480 with 2 Axes>"
      ]
     },
     "metadata": {},
     "output_type": "display_data"
    },
    {
     "name": "stdout",
     "output_type": "stream",
     "text": [
      "=== Multinomial NB ===\n",
      "Accuracy: 0.9315144766146993\n",
      "ROC AUC: 0.9804363468840119\n",
      "Classification Report:\n",
      "               precision    recall  f1-score   support\n",
      "\n",
      "           0       0.94      0.93      0.93      4696\n",
      "           1       0.92      0.93      0.93      4284\n",
      "\n",
      "    accuracy                           0.93      8980\n",
      "   macro avg       0.93      0.93      0.93      8980\n",
      "weighted avg       0.93      0.93      0.93      8980\n",
      "\n"
     ]
    },
    {
     "data": {
      "image/png": "[encoded data removed]",
      "text/plain": [
       "<Figure size 640x480 with 2 Axes>"
      ]
     },
     "metadata": {},
     "output_type": "display_data"
    },
    {
     "name": "stdout",
     "output_type": "stream",
     "text": [
      "=== Random Forest ===\n",
      "Accuracy: 0.9956570155902005\n",
      "ROC AUC: 0.9994796612568934\n",
      "Classification Report:\n",
      "               precision    recall  f1-score   support\n",
      "\n",
      "           0       1.00      0.99      1.00      4696\n",
      "           1       0.99      1.00      1.00      4284\n",
      "\n",
      "    accuracy                           1.00      8980\n",
      "   macro avg       1.00      1.00      1.00      8980\n",
      "weighted avg       1.00      1.00      1.00      8980\n",
      "\n"
     ]
    },
    {
     "data": {
      "image/png": "[encoded data removed]",
      "text/plain": [
       "<Figure size 640x480 with 2 Axes>"
      ]
     },
     "metadata": {},
     "output_type": "display_data"
    },
    {
     "data": {
      "image/png": "[encoded data removed]",
      "text/plain": [
       "<Figure size 640x480 with 1 Axes>"
      ]
     },
     "metadata": {},
     "output_type": "display_data"
    }
   ],
   "source": [
    "fpr_lr, tpr_lr = evaluate_model('Logistic Regression', y_test, y_pred_logreg, y_proba_logreg)\n",
    "fpr_nb, tpr_nb = evaluate_model('Multinomial NB', y_test, y_pred_nb, y_proba_nb)\n",
    "fpr_rf, tpr_rf = evaluate_model('Random Forest', y_test, y_pred_rf, y_proba_rf)\n",
    "\n",
    "plt.plot(fpr_lr, tpr_lr, label='Logistic Regression')\n",
    "plt.plot(fpr_nb, tpr_nb, label='Multinomial NB')\n",
    "plt.plot(fpr_rf, tpr_rf, label='Random Forest')\n",
    "plt.plot([0,1],[0,1],'k--')\n",
    "plt.xlabel('False Positive Rate')\n",
    "plt.ylabel('True Positive Rate')\n",
    "plt.title('ROC Curves Comparison')\n",
    "plt.legend()\n",
    "plt.show()"
   ]
  },
  {
   "cell_type": "markdown",
   "id": "3713ec49",
   "metadata": {},
   "source": [
    "## Analysis of the Findings\n",
    "- **Random Forest** achieved the highest test accuracy and ROC-AUC, benefiting from ensemble averaging and conservative hyperparameters.  \n",
    "- **Logistic Regression** provided competitive performance with interpretable coefficients.  \n",
    "- **Multinomial Naïve Bayes** was fastest but slightly less accurate, highlighting a trade-off between speed and performance."
   ]
  },
  {
   "cell_type": "markdown",
   "id": "c5c1651d",
   "metadata": {},
   "source": [
    "## Additional Testing on Custom Examples"
   ]
  },
  {
   "cell_type": "code",
   "execution_count": 12,
   "id": "dba42cf8",
   "metadata": {},
   "outputs": [
    {
     "name": "stdout",
     "output_type": "stream",
     "text": [
      "Government Launches Secret Weather-Controlling Satellites\n",
      "  LR probability of real: 0.082\n",
      "  NB probability of real: 0.784\n",
      "  RF probability of real: 0.189\n",
      "\n",
      "New Study Reveals Health Benefits of Chocolate\n",
      "  LR probability of real: 0.120\n",
      "  NB probability of real: 0.530\n",
      "  RF probability of real: 0.191\n",
      "\n"
     ]
    }
   ],
   "source": [
    "custom_tests = [\n",
    "    {\n",
    "        'title': 'Government Launches Secret Weather-Controlling Satellites',\n",
    "        'text': 'Intelligence sources claim covert missions are altering weather patterns.'\n",
    "    },\n",
    "    {\n",
    "        'title': 'New Study Reveals Health Benefits of Chocolate',\n",
    "        'text': 'Researchers found moderate chocolate consumption may improve heart health.'\n",
    "    }\n",
    "]\n",
    "for ct in custom_tests:\n",
    "    feats_title = tfidf_title.transform([ct['title']])\n",
    "    feats_text = tfidf_text.transform([ct['text']])\n",
    "    feats = hstack([feats_title, feats_text])\n",
    "    print(ct['title'])\n",
    "    for name, model in [('LR', logreg), ('NB', nb), ('RF', rf)]:\n",
    "        prob = model.predict_proba(feats)[:,1][0]\n",
    "        print(f'  {name} probability of real: {prob:.3f}')\n",
    "    print()"
   ]
  },
  {
   "cell_type": "markdown",
   "id": "9256747f",
   "metadata": {},
   "source": [
    "## Bias Analysis: Performance by Text-Length\n",
    "\n",
    "Let’s check whether our classifier’s accuracy differs on “short” vs. “long” articles.  \n",
    "If there’s a big gap, that could indicate the model isn’t handling certain article lengths well."
   ]
  },
  {
   "cell_type": "code",
   "execution_count": 13,
   "id": "2551d5bf",
   "metadata": {},
   "outputs": [
    {
     "name": "stdout",
     "output_type": "stream",
     "text": [
      "            accuracy  n_articles\n",
      "length_bin                      \n",
      "Q1_short    0.995814       11227\n",
      "Q2          0.987176       11229\n",
      "Q3          0.985559       11218\n",
      "Q4_long     0.982270       11224\n"
     ]
    },
    {
     "name": "stderr",
     "output_type": "stream",
     "text": [
      "/var/folders/bj/hc715svn25d4rp69vcps8mdw0000gn/T/ipykernel_81590/3420682021.py:16: FutureWarning: The default of observed=False is deprecated and will be changed to True in a future version of pandas. Pass observed=False to retain current behavior or observed=True to adopt the future default and silence this warning.\n",
      "  bias_df = data.groupby('length_bin')['correct']\\\n"
     ]
    },
    {
     "data": {
      "image/png": "[encoded data removed]",
      "text/plain": [
       "<Figure size 640x480 with 1 Axes>"
      ]
     },
     "metadata": {},
     "output_type": "display_data"
    }
   ],
   "source": [
    "# 1) Re-predict on the full dataset\n",
    "#    (we need the same feature pipeline as training)\n",
    "full_titles = tfidf_title.transform(data['title'])\n",
    "full_texts  = tfidf_text.transform(data['text'])\n",
    "full_feats  = hstack([full_titles, full_texts])\n",
    "\n",
    "data['predicted']   = logreg.predict(full_feats)     # or whichever model you prefer\n",
    "data['correct']     = (data['predicted'] == data['label']).astype(int)\n",
    "data['text_length'] = data['text'].str.len()\n",
    "\n",
    "# 2) Bin into quartiles\n",
    "data['length_bin'] = pd.qcut(data['text_length'], 4,\n",
    "                             labels=['Q1_short', 'Q2', 'Q3', 'Q4_long'])\n",
    "\n",
    "# 3) Compute accuracy per bin\n",
    "bias_df = data.groupby('length_bin')['correct']\\\n",
    "              .agg(['mean', 'count'])\\\n",
    "              .rename(columns={'mean':'accuracy','count':'n_articles'})\n",
    "\n",
    "print(bias_df)\n",
    "bias_df['accuracy'].plot.bar()\n",
    "plt.ylabel('Accuracy')\n",
    "plt.title('Model Accuracy by Article Length Quartile')\n",
    "plt.show()"
   ]
  },
  {
   "cell_type": "markdown",
   "id": "3c53ca98",
   "metadata": {},
   "source": [
    "## Content-Bias Analysis: Keyword Mentions\n",
    "\n",
    "Check whether certain politically-charged or clickbait keywords appear disproportionately in fake vs. real articles (ground truth only)."
   ]
  },
  {
   "cell_type": "code",
   "execution_count": 16,
   "id": "a0b3db64",
   "metadata": {},
   "outputs": [
    {
     "name": "stdout",
     "output_type": "stream",
     "text": [
      "Requirement already satisfied: vaderSentiment in /Users/elikaustinen/Documents/GitHub/CST-425/.venv/lib/python3.12/site-packages (3.3.2)\n",
      "Requirement already satisfied: requests in /Users/elikaustinen/Documents/GitHub/CST-425/.venv/lib/python3.12/site-packages (from vaderSentiment) (2.32.3)\n",
      "Requirement already satisfied: charset-normalizer<4,>=2 in /Users/elikaustinen/Documents/GitHub/CST-425/.venv/lib/python3.12/site-packages (from requests->vaderSentiment) (3.4.1)\n",
      "Requirement already satisfied: idna<4,>=2.5 in /Users/elikaustinen/Documents/GitHub/CST-425/.venv/lib/python3.12/site-packages (from requests->vaderSentiment) (3.10)\n",
      "Requirement already satisfied: urllib3<3,>=1.21.1 in /Users/elikaustinen/Documents/GitHub/CST-425/.venv/lib/python3.12/site-packages (from requests->vaderSentiment) (2.4.0)\n",
      "Requirement already satisfied: certifi>=2017.4.17 in /Users/elikaustinen/Documents/GitHub/CST-425/.venv/lib/python3.12/site-packages (from requests->vaderSentiment) (2025.4.26)\n",
      "\n",
      "---\n",
      "Keyword: 'Trump'\n",
      "Proportion by (label, sentiment):\n"
     ]
    },
    {
     "data": {
      "text/html": [
       "<div>\n",
       "<style scoped>\n",
       "    .dataframe tbody tr th:only-of-type {\n",
       "        vertical-align: middle;\n",
       "    }\n",
       "\n",
       "    .dataframe tbody tr th {\n",
       "        vertical-align: top;\n",
       "    }\n",
       "\n",
       "    .dataframe thead th {\n",
       "        text-align: right;\n",
       "    }\n",
       "</style>\n",
       "<table border=\"1\" class=\"dataframe\">\n",
       "  <thead>\n",
       "    <tr style=\"text-align: right;\">\n",
       "      <th>sentiment</th>\n",
       "      <th>negative</th>\n",
       "      <th>positive</th>\n",
       "    </tr>\n",
       "    <tr>\n",
       "      <th>label</th>\n",
       "      <th></th>\n",
       "      <th></th>\n",
       "    </tr>\n",
       "  </thead>\n",
       "  <tbody>\n",
       "    <tr>\n",
       "      <th>fake</th>\n",
       "      <td>0.505357</td>\n",
       "      <td>0.494643</td>\n",
       "    </tr>\n",
       "    <tr>\n",
       "      <th>real</th>\n",
       "      <td>0.350875</td>\n",
       "      <td>0.649125</td>\n",
       "    </tr>\n",
       "  </tbody>\n",
       "</table>\n",
       "</div>"
      ],
      "text/plain": [
       "sentiment  negative  positive\n",
       "label                        \n",
       "fake       0.505357  0.494643\n",
       "real       0.350875  0.649125"
      ]
     },
     "metadata": {},
     "output_type": "display_data"
    },
    {
     "name": "stdout",
     "output_type": "stream",
     "text": [
      "\n",
      "---\n",
      "Keyword: 'Obama'\n",
      "Proportion by (label, sentiment):\n"
     ]
    },
    {
     "data": {
      "text/html": [
       "<div>\n",
       "<style scoped>\n",
       "    .dataframe tbody tr th:only-of-type {\n",
       "        vertical-align: middle;\n",
       "    }\n",
       "\n",
       "    .dataframe tbody tr th {\n",
       "        vertical-align: top;\n",
       "    }\n",
       "\n",
       "    .dataframe thead th {\n",
       "        text-align: right;\n",
       "    }\n",
       "</style>\n",
       "<table border=\"1\" class=\"dataframe\">\n",
       "  <thead>\n",
       "    <tr style=\"text-align: right;\">\n",
       "      <th>sentiment</th>\n",
       "      <th>negative</th>\n",
       "      <th>positive</th>\n",
       "    </tr>\n",
       "    <tr>\n",
       "      <th>label</th>\n",
       "      <th></th>\n",
       "      <th></th>\n",
       "    </tr>\n",
       "  </thead>\n",
       "  <tbody>\n",
       "    <tr>\n",
       "      <th>fake</th>\n",
       "      <td>0.517586</td>\n",
       "      <td>0.482414</td>\n",
       "    </tr>\n",
       "    <tr>\n",
       "      <th>real</th>\n",
       "      <td>0.306211</td>\n",
       "      <td>0.693789</td>\n",
       "    </tr>\n",
       "  </tbody>\n",
       "</table>\n",
       "</div>"
      ],
      "text/plain": [
       "sentiment  negative  positive\n",
       "label                        \n",
       "fake       0.517586  0.482414\n",
       "real       0.306211  0.693789"
      ]
     },
     "metadata": {},
     "output_type": "display_data"
    },
    {
     "name": "stdout",
     "output_type": "stream",
     "text": [
      "\n",
      "---\n",
      "Keyword: 'Hillary'\n",
      "Proportion by (label, sentiment):\n"
     ]
    },
    {
     "data": {
      "text/html": [
       "<div>\n",
       "<style scoped>\n",
       "    .dataframe tbody tr th:only-of-type {\n",
       "        vertical-align: middle;\n",
       "    }\n",
       "\n",
       "    .dataframe tbody tr th {\n",
       "        vertical-align: top;\n",
       "    }\n",
       "\n",
       "    .dataframe thead th {\n",
       "        text-align: right;\n",
       "    }\n",
       "</style>\n",
       "<table border=\"1\" class=\"dataframe\">\n",
       "  <thead>\n",
       "    <tr style=\"text-align: right;\">\n",
       "      <th>sentiment</th>\n",
       "      <th>negative</th>\n",
       "      <th>positive</th>\n",
       "    </tr>\n",
       "    <tr>\n",
       "      <th>label</th>\n",
       "      <th></th>\n",
       "      <th></th>\n",
       "    </tr>\n",
       "  </thead>\n",
       "  <tbody>\n",
       "    <tr>\n",
       "      <th>fake</th>\n",
       "      <td>0.461687</td>\n",
       "      <td>0.538313</td>\n",
       "    </tr>\n",
       "    <tr>\n",
       "      <th>real</th>\n",
       "      <td>0.305998</td>\n",
       "      <td>0.694002</td>\n",
       "    </tr>\n",
       "  </tbody>\n",
       "</table>\n",
       "</div>"
      ],
      "text/plain": [
       "sentiment  negative  positive\n",
       "label                        \n",
       "fake       0.461687  0.538313\n",
       "real       0.305998  0.694002"
      ]
     },
     "metadata": {},
     "output_type": "display_data"
    },
    {
     "name": "stdout",
     "output_type": "stream",
     "text": [
      "\n",
      "---\n",
      "Keyword: 'Clinton'\n",
      "Proportion by (label, sentiment):\n"
     ]
    },
    {
     "data": {
      "text/html": [
       "<div>\n",
       "<style scoped>\n",
       "    .dataframe tbody tr th:only-of-type {\n",
       "        vertical-align: middle;\n",
       "    }\n",
       "\n",
       "    .dataframe tbody tr th {\n",
       "        vertical-align: top;\n",
       "    }\n",
       "\n",
       "    .dataframe thead th {\n",
       "        text-align: right;\n",
       "    }\n",
       "</style>\n",
       "<table border=\"1\" class=\"dataframe\">\n",
       "  <thead>\n",
       "    <tr style=\"text-align: right;\">\n",
       "      <th>sentiment</th>\n",
       "      <th>negative</th>\n",
       "      <th>positive</th>\n",
       "    </tr>\n",
       "    <tr>\n",
       "      <th>label</th>\n",
       "      <th></th>\n",
       "      <th></th>\n",
       "    </tr>\n",
       "  </thead>\n",
       "  <tbody>\n",
       "    <tr>\n",
       "      <th>fake</th>\n",
       "      <td>0.473645</td>\n",
       "      <td>0.526355</td>\n",
       "    </tr>\n",
       "    <tr>\n",
       "      <th>real</th>\n",
       "      <td>0.304290</td>\n",
       "      <td>0.695710</td>\n",
       "    </tr>\n",
       "  </tbody>\n",
       "</table>\n",
       "</div>"
      ],
      "text/plain": [
       "sentiment  negative  positive\n",
       "label                        \n",
       "fake       0.473645  0.526355\n",
       "real       0.304290  0.695710"
      ]
     },
     "metadata": {},
     "output_type": "display_data"
    },
    {
     "name": "stdout",
     "output_type": "stream",
     "text": [
      "\n",
      "---\n",
      "Keyword: 'Russia'\n",
      "Proportion by (label, sentiment):\n"
     ]
    },
    {
     "data": {
      "text/html": [
       "<div>\n",
       "<style scoped>\n",
       "    .dataframe tbody tr th:only-of-type {\n",
       "        vertical-align: middle;\n",
       "    }\n",
       "\n",
       "    .dataframe tbody tr th {\n",
       "        vertical-align: top;\n",
       "    }\n",
       "\n",
       "    .dataframe thead th {\n",
       "        text-align: right;\n",
       "    }\n",
       "</style>\n",
       "<table border=\"1\" class=\"dataframe\">\n",
       "  <thead>\n",
       "    <tr style=\"text-align: right;\">\n",
       "      <th>sentiment</th>\n",
       "      <th>negative</th>\n",
       "      <th>positive</th>\n",
       "    </tr>\n",
       "    <tr>\n",
       "      <th>label</th>\n",
       "      <th></th>\n",
       "      <th></th>\n",
       "    </tr>\n",
       "  </thead>\n",
       "  <tbody>\n",
       "    <tr>\n",
       "      <th>fake</th>\n",
       "      <td>0.551005</td>\n",
       "      <td>0.448995</td>\n",
       "    </tr>\n",
       "    <tr>\n",
       "      <th>real</th>\n",
       "      <td>0.426632</td>\n",
       "      <td>0.573368</td>\n",
       "    </tr>\n",
       "  </tbody>\n",
       "</table>\n",
       "</div>"
      ],
      "text/plain": [
       "sentiment  negative  positive\n",
       "label                        \n",
       "fake       0.551005  0.448995\n",
       "real       0.426632  0.573368"
      ]
     },
     "metadata": {},
     "output_type": "display_data"
    },
    {
     "name": "stdout",
     "output_type": "stream",
     "text": [
      "\n",
      "---\n",
      "Keyword: 'Republican'\n",
      "Proportion by (label, sentiment):\n"
     ]
    },
    {
     "data": {
      "text/html": [
       "<div>\n",
       "<style scoped>\n",
       "    .dataframe tbody tr th:only-of-type {\n",
       "        vertical-align: middle;\n",
       "    }\n",
       "\n",
       "    .dataframe tbody tr th {\n",
       "        vertical-align: top;\n",
       "    }\n",
       "\n",
       "    .dataframe thead th {\n",
       "        text-align: right;\n",
       "    }\n",
       "</style>\n",
       "<table border=\"1\" class=\"dataframe\">\n",
       "  <thead>\n",
       "    <tr style=\"text-align: right;\">\n",
       "      <th>sentiment</th>\n",
       "      <th>negative</th>\n",
       "      <th>positive</th>\n",
       "    </tr>\n",
       "    <tr>\n",
       "      <th>label</th>\n",
       "      <th></th>\n",
       "      <th></th>\n",
       "    </tr>\n",
       "  </thead>\n",
       "  <tbody>\n",
       "    <tr>\n",
       "      <th>fake</th>\n",
       "      <td>0.508754</td>\n",
       "      <td>0.491246</td>\n",
       "    </tr>\n",
       "    <tr>\n",
       "      <th>real</th>\n",
       "      <td>0.339933</td>\n",
       "      <td>0.660067</td>\n",
       "    </tr>\n",
       "  </tbody>\n",
       "</table>\n",
       "</div>"
      ],
      "text/plain": [
       "sentiment  negative  positive\n",
       "label                        \n",
       "fake       0.508754  0.491246\n",
       "real       0.339933  0.660067"
      ]
     },
     "metadata": {},
     "output_type": "display_data"
    },
    {
     "name": "stdout",
     "output_type": "stream",
     "text": [
      "\n",
      "---\n",
      "Keyword: 'President'\n",
      "Proportion by (label, sentiment):\n"
     ]
    },
    {
     "data": {
      "text/html": [
       "<div>\n",
       "<style scoped>\n",
       "    .dataframe tbody tr th:only-of-type {\n",
       "        vertical-align: middle;\n",
       "    }\n",
       "\n",
       "    .dataframe tbody tr th {\n",
       "        vertical-align: top;\n",
       "    }\n",
       "\n",
       "    .dataframe thead th {\n",
       "        text-align: right;\n",
       "    }\n",
       "</style>\n",
       "<table border=\"1\" class=\"dataframe\">\n",
       "  <thead>\n",
       "    <tr style=\"text-align: right;\">\n",
       "      <th>sentiment</th>\n",
       "      <th>negative</th>\n",
       "      <th>positive</th>\n",
       "    </tr>\n",
       "    <tr>\n",
       "      <th>label</th>\n",
       "      <th></th>\n",
       "      <th></th>\n",
       "    </tr>\n",
       "  </thead>\n",
       "  <tbody>\n",
       "    <tr>\n",
       "      <th>fake</th>\n",
       "      <td>0.499519</td>\n",
       "      <td>0.500481</td>\n",
       "    </tr>\n",
       "    <tr>\n",
       "      <th>real</th>\n",
       "      <td>0.404021</td>\n",
       "      <td>0.595979</td>\n",
       "    </tr>\n",
       "  </tbody>\n",
       "</table>\n",
       "</div>"
      ],
      "text/plain": [
       "sentiment  negative  positive\n",
       "label                        \n",
       "fake       0.499519  0.500481\n",
       "real       0.404021  0.595979"
      ]
     },
     "metadata": {},
     "output_type": "display_data"
    },
    {
     "name": "stdout",
     "output_type": "stream",
     "text": [
      "\n",
      "---\n",
      "Keyword: 'Senate'\n",
      "Proportion by (label, sentiment):\n"
     ]
    },
    {
     "data": {
      "text/html": [
       "<div>\n",
       "<style scoped>\n",
       "    .dataframe tbody tr th:only-of-type {\n",
       "        vertical-align: middle;\n",
       "    }\n",
       "\n",
       "    .dataframe tbody tr th {\n",
       "        vertical-align: top;\n",
       "    }\n",
       "\n",
       "    .dataframe thead th {\n",
       "        text-align: right;\n",
       "    }\n",
       "</style>\n",
       "<table border=\"1\" class=\"dataframe\">\n",
       "  <thead>\n",
       "    <tr style=\"text-align: right;\">\n",
       "      <th>sentiment</th>\n",
       "      <th>negative</th>\n",
       "      <th>positive</th>\n",
       "    </tr>\n",
       "    <tr>\n",
       "      <th>label</th>\n",
       "      <th></th>\n",
       "      <th></th>\n",
       "    </tr>\n",
       "  </thead>\n",
       "  <tbody>\n",
       "    <tr>\n",
       "      <th>fake</th>\n",
       "      <td>0.442446</td>\n",
       "      <td>0.557554</td>\n",
       "    </tr>\n",
       "    <tr>\n",
       "      <th>real</th>\n",
       "      <td>0.327998</td>\n",
       "      <td>0.672002</td>\n",
       "    </tr>\n",
       "  </tbody>\n",
       "</table>\n",
       "</div>"
      ],
      "text/plain": [
       "sentiment  negative  positive\n",
       "label                        \n",
       "fake       0.442446  0.557554\n",
       "real       0.327998  0.672002"
      ]
     },
     "metadata": {},
     "output_type": "display_data"
    },
    {
     "name": "stdout",
     "output_type": "stream",
     "text": [
      "\n",
      "---\n",
      "Keyword: 'China'\n",
      "Proportion by (label, sentiment):\n"
     ]
    },
    {
     "data": {
      "text/html": [
       "<div>\n",
       "<style scoped>\n",
       "    .dataframe tbody tr th:only-of-type {\n",
       "        vertical-align: middle;\n",
       "    }\n",
       "\n",
       "    .dataframe tbody tr th {\n",
       "        vertical-align: top;\n",
       "    }\n",
       "\n",
       "    .dataframe thead th {\n",
       "        text-align: right;\n",
       "    }\n",
       "</style>\n",
       "<table border=\"1\" class=\"dataframe\">\n",
       "  <thead>\n",
       "    <tr style=\"text-align: right;\">\n",
       "      <th>sentiment</th>\n",
       "      <th>negative</th>\n",
       "      <th>positive</th>\n",
       "    </tr>\n",
       "    <tr>\n",
       "      <th>label</th>\n",
       "      <th></th>\n",
       "      <th></th>\n",
       "    </tr>\n",
       "  </thead>\n",
       "  <tbody>\n",
       "    <tr>\n",
       "      <th>fake</th>\n",
       "      <td>0.493671</td>\n",
       "      <td>0.506329</td>\n",
       "    </tr>\n",
       "    <tr>\n",
       "      <th>real</th>\n",
       "      <td>0.350158</td>\n",
       "      <td>0.649842</td>\n",
       "    </tr>\n",
       "  </tbody>\n",
       "</table>\n",
       "</div>"
      ],
      "text/plain": [
       "sentiment  negative  positive\n",
       "label                        \n",
       "fake       0.493671  0.506329\n",
       "real       0.350158  0.649842"
      ]
     },
     "metadata": {},
     "output_type": "display_data"
    },
    {
     "name": "stdout",
     "output_type": "stream",
     "text": [
      "\n",
      "---\n",
      "Keyword: 'Brexit'\n",
      "Proportion by (label, sentiment):\n"
     ]
    },
    {
     "data": {
      "text/html": [
       "<div>\n",
       "<style scoped>\n",
       "    .dataframe tbody tr th:only-of-type {\n",
       "        vertical-align: middle;\n",
       "    }\n",
       "\n",
       "    .dataframe tbody tr th {\n",
       "        vertical-align: top;\n",
       "    }\n",
       "\n",
       "    .dataframe thead th {\n",
       "        text-align: right;\n",
       "    }\n",
       "</style>\n",
       "<table border=\"1\" class=\"dataframe\">\n",
       "  <thead>\n",
       "    <tr style=\"text-align: right;\">\n",
       "      <th>sentiment</th>\n",
       "      <th>negative</th>\n",
       "      <th>positive</th>\n",
       "    </tr>\n",
       "    <tr>\n",
       "      <th>label</th>\n",
       "      <th></th>\n",
       "      <th></th>\n",
       "    </tr>\n",
       "  </thead>\n",
       "  <tbody>\n",
       "    <tr>\n",
       "      <th>fake</th>\n",
       "      <td>0.431373</td>\n",
       "      <td>0.568627</td>\n",
       "    </tr>\n",
       "    <tr>\n",
       "      <th>real</th>\n",
       "      <td>0.169118</td>\n",
       "      <td>0.830882</td>\n",
       "    </tr>\n",
       "  </tbody>\n",
       "</table>\n",
       "</div>"
      ],
      "text/plain": [
       "sentiment  negative  positive\n",
       "label                        \n",
       "fake       0.431373  0.568627\n",
       "real       0.169118  0.830882"
      ]
     },
     "metadata": {},
     "output_type": "display_data"
    },
    {
     "name": "stdout",
     "output_type": "stream",
     "text": [
      "\n",
      "---\n",
      "Keyword: 'Korea'\n",
      "Proportion by (label, sentiment):\n"
     ]
    },
    {
     "data": {
      "text/html": [
       "<div>\n",
       "<style scoped>\n",
       "    .dataframe tbody tr th:only-of-type {\n",
       "        vertical-align: middle;\n",
       "    }\n",
       "\n",
       "    .dataframe tbody tr th {\n",
       "        vertical-align: top;\n",
       "    }\n",
       "\n",
       "    .dataframe thead th {\n",
       "        text-align: right;\n",
       "    }\n",
       "</style>\n",
       "<table border=\"1\" class=\"dataframe\">\n",
       "  <thead>\n",
       "    <tr style=\"text-align: right;\">\n",
       "      <th>sentiment</th>\n",
       "      <th>negative</th>\n",
       "      <th>positive</th>\n",
       "    </tr>\n",
       "    <tr>\n",
       "      <th>label</th>\n",
       "      <th></th>\n",
       "      <th></th>\n",
       "    </tr>\n",
       "  </thead>\n",
       "  <tbody>\n",
       "    <tr>\n",
       "      <th>fake</th>\n",
       "      <td>0.613065</td>\n",
       "      <td>0.386935</td>\n",
       "    </tr>\n",
       "    <tr>\n",
       "      <th>real</th>\n",
       "      <td>0.435673</td>\n",
       "      <td>0.564327</td>\n",
       "    </tr>\n",
       "  </tbody>\n",
       "</table>\n",
       "</div>"
      ],
      "text/plain": [
       "sentiment  negative  positive\n",
       "label                        \n",
       "fake       0.613065  0.386935\n",
       "real       0.435673  0.564327"
      ]
     },
     "metadata": {},
     "output_type": "display_data"
    },
    {
     "name": "stdout",
     "output_type": "stream",
     "text": [
      "\n",
      "---\n",
      "Keyword: 'Muslim'\n",
      "Proportion by (label, sentiment):\n"
     ]
    },
    {
     "data": {
      "text/html": [
       "<div>\n",
       "<style scoped>\n",
       "    .dataframe tbody tr th:only-of-type {\n",
       "        vertical-align: middle;\n",
       "    }\n",
       "\n",
       "    .dataframe tbody tr th {\n",
       "        vertical-align: top;\n",
       "    }\n",
       "\n",
       "    .dataframe thead th {\n",
       "        text-align: right;\n",
       "    }\n",
       "</style>\n",
       "<table border=\"1\" class=\"dataframe\">\n",
       "  <thead>\n",
       "    <tr style=\"text-align: right;\">\n",
       "      <th>sentiment</th>\n",
       "      <th>negative</th>\n",
       "      <th>positive</th>\n",
       "    </tr>\n",
       "    <tr>\n",
       "      <th>label</th>\n",
       "      <th></th>\n",
       "      <th></th>\n",
       "    </tr>\n",
       "  </thead>\n",
       "  <tbody>\n",
       "    <tr>\n",
       "      <th>fake</th>\n",
       "      <td>0.666814</td>\n",
       "      <td>0.333186</td>\n",
       "    </tr>\n",
       "    <tr>\n",
       "      <th>real</th>\n",
       "      <td>0.611507</td>\n",
       "      <td>0.388493</td>\n",
       "    </tr>\n",
       "  </tbody>\n",
       "</table>\n",
       "</div>"
      ],
      "text/plain": [
       "sentiment  negative  positive\n",
       "label                        \n",
       "fake       0.666814  0.333186\n",
       "real       0.611507  0.388493"
      ]
     },
     "metadata": {},
     "output_type": "display_data"
    },
    {
     "name": "stdout",
     "output_type": "stream",
     "text": [
      "\n",
      "---\n",
      "Keyword: 'Video'\n",
      "Proportion by (label, sentiment):\n"
     ]
    },
    {
     "data": {
      "text/html": [
       "<div>\n",
       "<style scoped>\n",
       "    .dataframe tbody tr th:only-of-type {\n",
       "        vertical-align: middle;\n",
       "    }\n",
       "\n",
       "    .dataframe tbody tr th {\n",
       "        vertical-align: top;\n",
       "    }\n",
       "\n",
       "    .dataframe thead th {\n",
       "        text-align: right;\n",
       "    }\n",
       "</style>\n",
       "<table border=\"1\" class=\"dataframe\">\n",
       "  <thead>\n",
       "    <tr style=\"text-align: right;\">\n",
       "      <th>sentiment</th>\n",
       "      <th>negative</th>\n",
       "      <th>positive</th>\n",
       "    </tr>\n",
       "    <tr>\n",
       "      <th>label</th>\n",
       "      <th></th>\n",
       "      <th></th>\n",
       "    </tr>\n",
       "  </thead>\n",
       "  <tbody>\n",
       "    <tr>\n",
       "      <th>fake</th>\n",
       "      <td>0.519591</td>\n",
       "      <td>0.480409</td>\n",
       "    </tr>\n",
       "    <tr>\n",
       "      <th>real</th>\n",
       "      <td>0.586022</td>\n",
       "      <td>0.413978</td>\n",
       "    </tr>\n",
       "  </tbody>\n",
       "</table>\n",
       "</div>"
      ],
      "text/plain": [
       "sentiment  negative  positive\n",
       "label                        \n",
       "fake       0.519591  0.480409\n",
       "real       0.586022  0.413978"
      ]
     },
     "metadata": {},
     "output_type": "display_data"
    },
    {
     "name": "stdout",
     "output_type": "stream",
     "text": [
      "\n",
      "---\n",
      "Keyword: 'Watch'\n",
      "Proportion by (label, sentiment):\n"
     ]
    },
    {
     "data": {
      "text/html": [
       "<div>\n",
       "<style scoped>\n",
       "    .dataframe tbody tr th:only-of-type {\n",
       "        vertical-align: middle;\n",
       "    }\n",
       "\n",
       "    .dataframe tbody tr th {\n",
       "        vertical-align: top;\n",
       "    }\n",
       "\n",
       "    .dataframe thead th {\n",
       "        text-align: right;\n",
       "    }\n",
       "</style>\n",
       "<table border=\"1\" class=\"dataframe\">\n",
       "  <thead>\n",
       "    <tr style=\"text-align: right;\">\n",
       "      <th>sentiment</th>\n",
       "      <th>negative</th>\n",
       "      <th>positive</th>\n",
       "    </tr>\n",
       "    <tr>\n",
       "      <th>label</th>\n",
       "      <th></th>\n",
       "      <th></th>\n",
       "    </tr>\n",
       "  </thead>\n",
       "  <tbody>\n",
       "    <tr>\n",
       "      <th>fake</th>\n",
       "      <td>0.540585</td>\n",
       "      <td>0.459415</td>\n",
       "    </tr>\n",
       "    <tr>\n",
       "      <th>real</th>\n",
       "      <td>0.465625</td>\n",
       "      <td>0.534375</td>\n",
       "    </tr>\n",
       "  </tbody>\n",
       "</table>\n",
       "</div>"
      ],
      "text/plain": [
       "sentiment  negative  positive\n",
       "label                        \n",
       "fake       0.540585  0.459415\n",
       "real       0.465625  0.534375"
      ]
     },
     "metadata": {},
     "output_type": "display_data"
    },
    {
     "name": "stdout",
     "output_type": "stream",
     "text": [
      "\n",
      "---\n",
      "Keyword: 'Breaking'\n",
      "Proportion by (label, sentiment):\n"
     ]
    },
    {
     "data": {
      "text/html": [
       "<div>\n",
       "<style scoped>\n",
       "    .dataframe tbody tr th:only-of-type {\n",
       "        vertical-align: middle;\n",
       "    }\n",
       "\n",
       "    .dataframe tbody tr th {\n",
       "        vertical-align: top;\n",
       "    }\n",
       "\n",
       "    .dataframe thead th {\n",
       "        text-align: right;\n",
       "    }\n",
       "</style>\n",
       "<table border=\"1\" class=\"dataframe\">\n",
       "  <thead>\n",
       "    <tr style=\"text-align: right;\">\n",
       "      <th>sentiment</th>\n",
       "      <th>negative</th>\n",
       "      <th>positive</th>\n",
       "    </tr>\n",
       "    <tr>\n",
       "      <th>label</th>\n",
       "      <th></th>\n",
       "      <th></th>\n",
       "    </tr>\n",
       "  </thead>\n",
       "  <tbody>\n",
       "    <tr>\n",
       "      <th>fake</th>\n",
       "      <td>0.550000</td>\n",
       "      <td>0.450000</td>\n",
       "    </tr>\n",
       "    <tr>\n",
       "      <th>real</th>\n",
       "      <td>0.466146</td>\n",
       "      <td>0.533854</td>\n",
       "    </tr>\n",
       "  </tbody>\n",
       "</table>\n",
       "</div>"
      ],
      "text/plain": [
       "sentiment  negative  positive\n",
       "label                        \n",
       "fake       0.550000  0.450000\n",
       "real       0.466146  0.533854"
      ]
     },
     "metadata": {},
     "output_type": "display_data"
    }
   ],
   "source": [
    "# 1) Define keywords of interest\n",
    "keywords = [\n",
    "    'Trump', 'Obama', 'Hillary', 'Clinton',\n",
    "    'Russia', 'Republican', 'President', 'Senate',\n",
    "    'China', 'Brexit', 'Korea', 'Muslim',\n",
    "    'Video', 'Watch', 'Breaking'\n",
    "]\n",
    "\n",
    "# If you haven’t already, install VADER sentiment\n",
    "!pip install vaderSentiment\n",
    "\n",
    "from vaderSentiment.vaderSentiment import SentimentIntensityAnalyzer\n",
    "\n",
    "# 1) Compute sentiment for each article\n",
    "analyzer = SentimentIntensityAnalyzer()\n",
    "def get_sentiment(text):\n",
    "    score = analyzer.polarity_scores(text)['compound']\n",
    "    return 'positive' if score >= 0 else 'negative'\n",
    "\n",
    "data['sentiment'] = data['text'].fillna(\"\").apply(get_sentiment)\n",
    "\n",
    "# 2) Loop over keywords and print label × sentiment proportions\n",
    "for kw in keywords:\n",
    "    mask = (\n",
    "        data['title'].str.contains(kw, case=False, na=False) |\n",
    "        data['text'].str.contains(kw, case=False, na=False)\n",
    "    )\n",
    "    subset = data[mask]\n",
    "    print(f\"\\n---\\nKeyword: '{kw}'\")\n",
    "    if subset.empty:\n",
    "        print(\" No matching articles found.\")\n",
    "        continue\n",
    "\n",
    "    # 3) Build a pivot of counts then normalize to proportions\n",
    "    pivot = (\n",
    "        subset\n",
    "        .groupby(['label', 'sentiment'])\n",
    "        .size()\n",
    "        .unstack(fill_value=0)\n",
    "    )\n",
    "    prop = pivot.div(pivot.sum(axis=1), axis=0)  # row-normalize by label\n",
    "\n",
    "    # Rename the index for clarity\n",
    "    prop.index = prop.index.map({0:'fake', 1:'real'})\n",
    "    print(\"Proportion by (label, sentiment):\")\n",
    "    display(prop)"
   ]
  }
 ],
 "metadata": {
  "kernelspec": {
   "display_name": ".venv",
   "language": "python",
   "name": "python3"
  },
  "language_info": {
   "codemirror_mode": {
    "name": "ipython",
    "version": 3
   },
   "file_extension": ".py",
   "mimetype": "text/x-python",
   "name": "python",
   "nbconvert_exporter": "python",
   "pygments_lexer": "ipython3",
   "version": "3.12.4"
  }
 },
 "nbformat": 4,
 "nbformat_minor": 5
}
